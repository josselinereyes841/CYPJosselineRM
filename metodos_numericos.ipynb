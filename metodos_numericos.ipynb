{
  "nbformat": 4,
  "nbformat_minor": 0,
  "metadata": {
    "colab": {
      "name": "metodos_numericos.ipynb",
      "provenance": [],
      "collapsed_sections": [],
      "authorship_tag": "ABX9TyOqaGFwyqJTUY4fODtkexXk",
      "include_colab_link": true
    },
    "kernelspec": {
      "name": "python3",
      "display_name": "Python 3"
    }
  },
  "cells": [
    {
      "cell_type": "markdown",
      "metadata": {
        "id": "view-in-github",
        "colab_type": "text"
      },
      "source": [
        "<a href=\"https://colab.research.google.com/github/josselinereyes841/CYPJosselineRM/blob/master/metodos_numericos.ipynb\" target=\"_parent\"><img src=\"https://colab.research.google.com/assets/colab-badge.svg\" alt=\"Open In Colab\"/></a>"
      ]
    },
    {
      "cell_type": "code",
      "metadata": {
        "colab": {
          "base_uri": "https://localhost:8080/",
          "height": 350
        },
        "id": "WvTDaOa-UzsQ",
        "outputId": "a45a2b32-11f7-4d23-c49d-11748d4e7e71"
      },
      "source": [
        "import tkinter\r\n",
        "\r\n",
        "ventana = tkinter.Tk()\r\n",
        "ventana.geometry(\"400x300\")\r\n",
        "\r\n",
        "boton1= tkinter.Button(ventana, text = \"boton1\", width = 10, height = 5)\r\n",
        "boton2= tkinter.Button(ventana, text = \"boton2\", width = 10, height = 5)\r\n",
        "boton3= tkinter.Button(ventana, text = \"boton3\", width = 10, height = 5)\r\n",
        "\r\n",
        "boton1.grid(row = 0, column = 0)\r\n",
        "boton2.grid(row = 1, column = 1)\r\n",
        "boton3.grid(row = 2, column = 2)\r\n",
        "\r\n",
        "ventana.mainloop()\r\n",
        "\"\"\"\r\n",
        "cajaTexto = tkinter.Entry(ventana, font = \"Helveticaa 50\")\r\n",
        "cajaTexto.pack()\r\n",
        "\r\n",
        "boton1= tkinter.Button(ventana,text = \"click\")\r\n",
        "boton1.pack()\r\n",
        "\r\n",
        "def saludo(nombre):\r\n",
        "    print(\"hola\" + nombre)\r\n",
        "    \r\n",
        "etiqueta = tkinter.Label(ventana, text=\"hola mundo\",bg= \"blue\")\r\n",
        "etiqueta.pack(fill=tkinter.BOTH,expand=True)\r\n",
        "\r\n",
        "boton1 = tkinter.Button(ventana, text = \"Presiona\", padx = 40, pady= 50, command = lambda: saludo)\r\n",
        "boton1.pack()\r\n",
        "\"\"\"\r\n",
        "\r\n"
      ],
      "execution_count": 3,
      "outputs": [
        {
          "output_type": "error",
          "ename": "TclError",
          "evalue": "ignored",
          "traceback": [
            "\u001b[0;31m---------------------------------------------------------------------------\u001b[0m",
            "\u001b[0;31mTclError\u001b[0m                                  Traceback (most recent call last)",
            "\u001b[0;32m<ipython-input-3-4f8adaeec5b1>\u001b[0m in \u001b[0;36m<module>\u001b[0;34m()\u001b[0m\n\u001b[1;32m      1\u001b[0m \u001b[0;32mimport\u001b[0m \u001b[0mtkinter\u001b[0m\u001b[0;34m\u001b[0m\u001b[0;34m\u001b[0m\u001b[0m\n\u001b[1;32m      2\u001b[0m \u001b[0;34m\u001b[0m\u001b[0m\n\u001b[0;32m----> 3\u001b[0;31m \u001b[0mventana\u001b[0m \u001b[0;34m=\u001b[0m \u001b[0mtkinter\u001b[0m\u001b[0;34m.\u001b[0m\u001b[0mTk\u001b[0m\u001b[0;34m(\u001b[0m\u001b[0;34m)\u001b[0m\u001b[0;34m\u001b[0m\u001b[0;34m\u001b[0m\u001b[0m\n\u001b[0m\u001b[1;32m      4\u001b[0m \u001b[0mventana\u001b[0m\u001b[0;34m.\u001b[0m\u001b[0mgeometry\u001b[0m\u001b[0;34m(\u001b[0m\u001b[0;34m\"400x300\"\u001b[0m\u001b[0;34m)\u001b[0m\u001b[0;34m\u001b[0m\u001b[0;34m\u001b[0m\u001b[0m\n\u001b[1;32m      5\u001b[0m \u001b[0;34m\u001b[0m\u001b[0m\n",
            "\u001b[0;32m/usr/lib/python3.6/tkinter/__init__.py\u001b[0m in \u001b[0;36m__init__\u001b[0;34m(self, screenName, baseName, className, useTk, sync, use)\u001b[0m\n\u001b[1;32m   2021\u001b[0m                 \u001b[0mbaseName\u001b[0m \u001b[0;34m=\u001b[0m \u001b[0mbaseName\u001b[0m \u001b[0;34m+\u001b[0m \u001b[0mext\u001b[0m\u001b[0;34m\u001b[0m\u001b[0;34m\u001b[0m\u001b[0m\n\u001b[1;32m   2022\u001b[0m         \u001b[0minteractive\u001b[0m \u001b[0;34m=\u001b[0m \u001b[0;36m0\u001b[0m\u001b[0;34m\u001b[0m\u001b[0;34m\u001b[0m\u001b[0m\n\u001b[0;32m-> 2023\u001b[0;31m         \u001b[0mself\u001b[0m\u001b[0;34m.\u001b[0m\u001b[0mtk\u001b[0m \u001b[0;34m=\u001b[0m \u001b[0m_tkinter\u001b[0m\u001b[0;34m.\u001b[0m\u001b[0mcreate\u001b[0m\u001b[0;34m(\u001b[0m\u001b[0mscreenName\u001b[0m\u001b[0;34m,\u001b[0m \u001b[0mbaseName\u001b[0m\u001b[0;34m,\u001b[0m \u001b[0mclassName\u001b[0m\u001b[0;34m,\u001b[0m \u001b[0minteractive\u001b[0m\u001b[0;34m,\u001b[0m \u001b[0mwantobjects\u001b[0m\u001b[0;34m,\u001b[0m \u001b[0museTk\u001b[0m\u001b[0;34m,\u001b[0m \u001b[0msync\u001b[0m\u001b[0;34m,\u001b[0m \u001b[0muse\u001b[0m\u001b[0;34m)\u001b[0m\u001b[0;34m\u001b[0m\u001b[0;34m\u001b[0m\u001b[0m\n\u001b[0m\u001b[1;32m   2024\u001b[0m         \u001b[0;32mif\u001b[0m \u001b[0museTk\u001b[0m\u001b[0;34m:\u001b[0m\u001b[0;34m\u001b[0m\u001b[0;34m\u001b[0m\u001b[0m\n\u001b[1;32m   2025\u001b[0m             \u001b[0mself\u001b[0m\u001b[0;34m.\u001b[0m\u001b[0m_loadtk\u001b[0m\u001b[0;34m(\u001b[0m\u001b[0;34m)\u001b[0m\u001b[0;34m\u001b[0m\u001b[0;34m\u001b[0m\u001b[0m\n",
            "\u001b[0;31mTclError\u001b[0m: no display name and no $DISPLAY environment variable"
          ]
        }
      ]
    },
    {
      "cell_type": "code",
      "metadata": {
        "id": "BGD-NQxYPxXd"
      },
      "source": [
        "ventana = Tk()\r\n",
        "ventana.title(\"CALCULADORA\")\r\n",
        "ventana.geometry(392  600)\r\n",
        "\r\n",
        "ventana.mainloop()"
      ],
      "execution_count": null,
      "outputs": []
    },
    {
      "cell_type": "code",
      "metadata": {
        "id": "qjqu_AhgP9Uo"
      },
      "source": [
        "from tkinter import  *\r\n",
        "\r\n",
        "def potencia(base, exponente):\r\n",
        "    pass\r\n",
        "print(3**3)\r\n",
        "print(pow(3,3))\r\n",
        "\r\n",
        "ventana = Tk()\r\n",
        "ventana.title(\"Calculadora\")\r\n",
        "\r\n",
        "#entrada de texto\r\n",
        "e_texto = Entry(ventana, font = (\"Calibri 16\"))\r\n",
        "e_texto.grid(row = 0, column = 0, columnspan = 4, padx = 50, pady = 5)\r\n",
        "\r\n",
        "#botones numeros\r\n",
        "boton1 = Button(ventana, text = \"1\", width = 5, height = 2 )\r\n",
        "boton2 = Button(ventana, text = \"2\", width = 5, height = 2 )\r\n",
        "boton3 = Button(ventana, text = \"3\", width = 5, height = 2 )\r\n",
        "boton4 = Button(ventana, text = \"4\", width = 5, height = 2 )\r\n",
        "boton5 = Button(ventana, text = \"5\", width = 5, height = 2 )\r\n",
        "boton6 = Button(ventana, text = \"6\", width = 5, height = 2 )\r\n",
        "boton7 = Button(ventana, text = \"7\", width = 5, height = 2 )\r\n",
        "boton8 = Button(ventana, text = \"8\", width = 5, height = 2 )\r\n",
        "boton9 = Button(ventana, text = \"9\", width = 5, height = 2 )\r\n",
        "boton0 = Button(ventana, text = \"0\", width = 5, height = 2 )\r\n",
        "botonx = Button(ventana, text = \"X\", width = 5, height = 2 )\r\n",
        "botony = Button(ventana, text = \"y\", width = 5, height = 2 )\r\n",
        "\r\n",
        "#botones simbolos\r\n",
        "boton_borrar = Button(ventana, text = \"AC\", width = 5, height = 2 )\r\n",
        "boton_parentesis1 = Button(ventana, text = \"(\", width = 5, height = 2 )\r\n",
        "boton_parentesis2 = Button(ventana, text = \")\", width = 5, height = 2 )\r\n",
        "boton_punto = Button(ventana, text = \"\", width = 5, height = 2 )\r\n",
        "\r\n",
        "#botones operaciones\r\n",
        "boton_division = Button(ventana, text = \"÷\", width = 5, height = 2 )\r\n",
        "boton_multiplicacion = Button(ventana, text = \"*\", width = 5, height = 2 )\r\n",
        "boton_suma = Button(ventana, text = \"+\", width = 5, height = 2 )\r\n",
        "boton_resta = Button(ventana, text = \"-\", width = 5, height = 2 )\r\n",
        "boton_raiz = Button(ventana, text = \"¹\", width = 5, height = 2 )\r\n",
        "boton_potencia = Button(ventana, text = \"^\", width = 5, height = 2 )\r\n",
        "boton_derivada = Button(ventana, text = \"\", width = 5, height = 2 )\r\n",
        "boton_integral = Button(ventana, text = \"\", width = 5, height = 2 )\r\n",
        "boton_iteracion = Button(ventana, text = \"\", width = 5, height = 2 )\r\n",
        "boton_cos = Button(ventana, text = \"\", width = 5, height = 2 )\r\n",
        "boton_sen = Button(ventana, text = \"\", width = 5, height = 2 )\r\n",
        "boton_igual = Button(ventana, text = \"\", width = 5, height = 2 )\r\n",
        "\r\n",
        "\r\n",
        "\r\n",
        "ventana.mainloop()"
      ],
      "execution_count": null,
      "outputs": []
    },
    {
      "cell_type": "code",
      "metadata": {
        "id": "W4S_VUR8WS5B"
      },
      "source": [
        "#ventana básica \r\n",
        "from tkinter import  *\r\n",
        "from math import *\r\n",
        "\r\n",
        "ventana = Tk()\r\n",
        "ventana.title(\"calculadora\")\r\n",
        "ventana.geometry(\"392x600\")\r\n",
        "#definimos las dimensiones de los botones\r\n",
        "ancho_boton = 11\r\n",
        "alto_boton = 3\r\n",
        "\r\n",
        "#creamos nuestros botones\r\n",
        "Boton0=Button(ventana, text = \"0\", width = ancho_boton, height= alto_boton).place(x=17 , y=180)\r\n",
        "Boton1=Button(ventana, text = \"1\", width = ancho_boton, height= alto_boton).place(x=107 , y=180)\r\n",
        "Boton2=Button(ventana, text = \"2\", width = ancho_boton, height= alto_boton).place(x=197 , y=180)\r\n",
        "Boton3=Button(ventana, text = \"3\", width = ancho_boton, height= alto_boton).place(x=17 , y=180)\r\n",
        "\r\n",
        "\r\n",
        "\r\n",
        "\r\n",
        "salida = Entry(ventana,font=('arial', 20,'bold'),width = 22, bd = 20, insertwidth = 4, justify = \"right\").place(x = 10, y = 60)\r\n",
        "\r\n",
        "\r\n",
        "\r\n",
        "ventana.mainloop()"
      ],
      "execution_count": null,
      "outputs": []
    },
    {
      "cell_type": "code",
      "metadata": {
        "id": "6B3rjNyUvBc2"
      },
      "source": [
        "from tkinter import *\r\n",
        "from math import *\r\n",
        "\r\n",
        "ventana = Tk()\r\n",
        "ventana.title(\"calculadora\")\r\n",
        "ventana.geometry(\"392x600\")\r\n",
        "e_texto = Entry(ventana,font =(\"calibri 20\"))\r\n",
        "\r\n",
        "#funciones\r\n",
        "def click_boton(valor):\r\n",
        "    return\r\n",
        "\r\n",
        "#definimos las dimensiones de los botones\r\n",
        "ancho_boton = 11\r\n",
        "alto_boton = 3\r\n",
        "#definimos el color de los botones y del fondo\r\n",
        "ventana.configure(background = \"SkyBlue4\")\r\n",
        "color_boton=(\"gray77\")\r\n",
        "\r\n",
        "#creamos nuestros botones\r\n",
        "Boton0=Button(ventana, text = \"0\", width = ancho_boton, height= alto_boton).place(x=17 , y=180)\r\n",
        "Boton1=Button(ventana, text = \"1\", width = ancho_boton, height= alto_boton).place(x=107 , y=180)\r\n",
        "Boton2=Button(ventana, text = \"2\", width = ancho_boton, height= alto_boton).place(x=197 , y=180)\r\n",
        "Boton3=Button(ventana, text = \"3\", width = ancho_boton, height= alto_boton).place(x=287 , y=180)\r\n",
        "Boton4=Button(ventana, text = \"4\", width = ancho_boton, height= alto_boton).place(x=17 , y=240)\r\n",
        "Boton5=Button(ventana, text = \"5\", width = ancho_boton, height= alto_boton).place(x=107 , y=240)\r\n",
        "Boton6=Button(ventana, text = \"6\", width = ancho_boton, height= alto_boton).place(x=197 , y=240)\r\n",
        "Boton7=Button(ventana, text = \"7\", width = ancho_boton, height= alto_boton).place(x=287 , y=240)\r\n",
        "Boton8=Button(ventana, text = \"8\", width = ancho_boton, height= alto_boton).place(x=17 , y=300)\r\n",
        "Boton9=Button(ventana, text = \"9\", width = ancho_boton, height= alto_boton).place(x=107 , y=300)\r\n",
        "BotonP=Button(ventana, text = \"π\", width = ancho_boton, height= alto_boton).place(x=197 , y=300)\r\n",
        "BotonComa=Button(ventana, text = \",\", width = ancho_boton, height= alto_boton).place(x=287 , y=300)\r\n",
        "BotonSuma=Button(ventana, text = \"+\", width = ancho_boton, height= alto_boton).place(x=17 , y=360)\r\n",
        "BotonResta=Button(ventana, text = \"-\", width = ancho_boton, height= alto_boton).place(x=107 , y=360)\r\n",
        "BotonMulti=Button(ventana, text = \"*\", width = ancho_boton, height= alto_boton).place(x=197 , y=360)\r\n",
        "BotonDiv=Button(ventana, text = \"/\", width = ancho_boton, height= alto_boton).place(x=287 , y=360)\r\n",
        "BotonSqrt=Button(ventana, text = \"√\", width = ancho_boton, height= alto_boton).place(x=17 , y=420)\r\n",
        "BotonParen1=Button(ventana, text = \"(\", width = ancho_boton, height= alto_boton).place(x=17 , y=480)\r\n",
        "BotonParen2=Button(ventana, text = \")\", width = ancho_boton, height= alto_boton).place(x=107 , y=480)\r\n",
        "BotonResto=Button(ventana, text = \"%\", width = ancho_boton, height= alto_boton).place(x=197 , y=480)\r\n",
        "BotonIn=Button(ventana, text = \"ln\", width = ancho_boton, height= alto_boton).place(x=287 , y=480)\r\n",
        "BotonC=Button(ventana, text = \"C\", width = ancho_boton, height= alto_boton).place(x=107 , y=420)\r\n",
        "BotonExp=Button(ventana, text = \"EXP\", width = ancho_boton, height= alto_boton).place(x=197 , y=420)\r\n",
        "BotonResult=Button(ventana, text = \"=\", width = ancho_boton, height= alto_boton).place(x=287 , y=420)\r\n",
        "\r\n",
        "\r\n",
        "salida = Entry(ventana,font=('arial', 20,'bold'),width = 22, bd = 20, insertwidth = 4,bg=\"powder blue\", justify = \"right\").place(x = 10, y = 60)\r\n",
        "\r\n",
        "ventana.mainloop()"
      ],
      "execution_count": null,
      "outputs": []
    }
  ]
}